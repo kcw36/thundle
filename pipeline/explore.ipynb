{
 "cells": [
  {
   "cell_type": "markdown",
   "metadata": {},
   "source": [
    "# Setup"
   ]
  },
  {
   "cell_type": "code",
   "execution_count": 1,
   "metadata": {},
   "outputs": [],
   "source": [
    "from transform import transform\n",
    "from json import loads"
   ]
  },
  {
   "cell_type": "code",
   "execution_count": 2,
   "metadata": {},
   "outputs": [],
   "source": [
    "with open(\"example_response.json\", \"r\", encoding=\"utf-8\") as f:\n",
    "        data = loads(f.read())"
   ]
  },
  {
   "cell_type": "code",
   "execution_count": 3,
   "metadata": {},
   "outputs": [],
   "source": [
    "df = transform(data)"
   ]
  },
  {
   "cell_type": "markdown",
   "metadata": {},
   "source": [
    "# Exploration"
   ]
  },
  {
   "cell_type": "code",
   "execution_count": 12,
   "metadata": {},
   "outputs": [
    {
     "data": {
      "text/html": [
       "<div>\n",
       "<style scoped>\n",
       "    .dataframe tbody tr th:only-of-type {\n",
       "        vertical-align: middle;\n",
       "    }\n",
       "\n",
       "    .dataframe tbody tr th {\n",
       "        vertical-align: top;\n",
       "    }\n",
       "\n",
       "    .dataframe thead th {\n",
       "        text-align: right;\n",
       "    }\n",
       "</style>\n",
       "<table border=\"1\" class=\"dataframe\">\n",
       "  <thead>\n",
       "    <tr style=\"text-align: right;\">\n",
       "      <th></th>\n",
       "      <th>name</th>\n",
       "      <th>country</th>\n",
       "      <th>vehicle_type</th>\n",
       "      <th>tier</th>\n",
       "      <th>realistic_br</th>\n",
       "      <th>realistic_ground_br</th>\n",
       "      <th>is_event</th>\n",
       "      <th>release_date</th>\n",
       "      <th>is_premium</th>\n",
       "      <th>is_pack</th>\n",
       "      <th>is_marketplace</th>\n",
       "      <th>is_squadron</th>\n",
       "      <th>image_url</th>\n",
       "      <th>mode</th>\n",
       "    </tr>\n",
       "  </thead>\n",
       "  <tbody>\n",
       "    <tr>\n",
       "      <th>0</th>\n",
       "      <td>a-20g</td>\n",
       "      <td>usa</td>\n",
       "      <td>assault</td>\n",
       "      <td>2</td>\n",
       "      <td>2.7</td>\n",
       "      <td>2.7</td>\n",
       "      <td>False</td>\n",
       "      <td>NaT</td>\n",
       "      <td>False</td>\n",
       "      <td>False</td>\n",
       "      <td>False</td>\n",
       "      <td>False</td>\n",
       "      <td>https://www.wtvehiclesapi.sgambe.serv00.net/as...</td>\n",
       "      <td>air</td>\n",
       "    </tr>\n",
       "    <tr>\n",
       "      <th>1</th>\n",
       "      <td>a-26b</td>\n",
       "      <td>usa</td>\n",
       "      <td>assault</td>\n",
       "      <td>4</td>\n",
       "      <td>5.3</td>\n",
       "      <td>5.3</td>\n",
       "      <td>False</td>\n",
       "      <td>NaT</td>\n",
       "      <td>False</td>\n",
       "      <td>False</td>\n",
       "      <td>False</td>\n",
       "      <td>False</td>\n",
       "      <td>https://www.wtvehiclesapi.sgambe.serv00.net/as...</td>\n",
       "      <td>air</td>\n",
       "    </tr>\n",
       "    <tr>\n",
       "      <th>2</th>\n",
       "      <td>a-26b_10</td>\n",
       "      <td>usa</td>\n",
       "      <td>assault</td>\n",
       "      <td>4</td>\n",
       "      <td>5.0</td>\n",
       "      <td>5.0</td>\n",
       "      <td>False</td>\n",
       "      <td>2017-09-14 00:00:00+00:00</td>\n",
       "      <td>False</td>\n",
       "      <td>False</td>\n",
       "      <td>False</td>\n",
       "      <td>False</td>\n",
       "      <td>https://www.wtvehiclesapi.sgambe.serv00.net/as...</td>\n",
       "      <td>air</td>\n",
       "    </tr>\n",
       "    <tr>\n",
       "      <th>3</th>\n",
       "      <td>a-26c</td>\n",
       "      <td>usa</td>\n",
       "      <td>bomber</td>\n",
       "      <td>4</td>\n",
       "      <td>5.3</td>\n",
       "      <td>5.3</td>\n",
       "      <td>False</td>\n",
       "      <td>NaT</td>\n",
       "      <td>False</td>\n",
       "      <td>False</td>\n",
       "      <td>False</td>\n",
       "      <td>False</td>\n",
       "      <td>https://www.wtvehiclesapi.sgambe.serv00.net/as...</td>\n",
       "      <td>air</td>\n",
       "    </tr>\n",
       "    <tr>\n",
       "      <th>4</th>\n",
       "      <td>a-26c-45-dt</td>\n",
       "      <td>usa</td>\n",
       "      <td>bomber</td>\n",
       "      <td>4</td>\n",
       "      <td>5.3</td>\n",
       "      <td>5.3</td>\n",
       "      <td>False</td>\n",
       "      <td>NaT</td>\n",
       "      <td>True</td>\n",
       "      <td>True</td>\n",
       "      <td>False</td>\n",
       "      <td>False</td>\n",
       "      <td>https://www.wtvehiclesapi.sgambe.serv00.net/as...</td>\n",
       "      <td>air</td>\n",
       "    </tr>\n",
       "  </tbody>\n",
       "</table>\n",
       "</div>"
      ],
      "text/plain": [
       "          name country vehicle_type  tier  realistic_br  realistic_ground_br  \\\n",
       "0        a-20g     usa      assault     2           2.7                  2.7   \n",
       "1        a-26b     usa      assault     4           5.3                  5.3   \n",
       "2     a-26b_10     usa      assault     4           5.0                  5.0   \n",
       "3        a-26c     usa       bomber     4           5.3                  5.3   \n",
       "4  a-26c-45-dt     usa       bomber     4           5.3                  5.3   \n",
       "\n",
       "   is_event              release_date  is_premium  is_pack  is_marketplace  \\\n",
       "0     False                       NaT       False    False           False   \n",
       "1     False                       NaT       False    False           False   \n",
       "2     False 2017-09-14 00:00:00+00:00       False    False           False   \n",
       "3     False                       NaT       False    False           False   \n",
       "4     False                       NaT        True     True           False   \n",
       "\n",
       "   is_squadron                                          image_url mode  \n",
       "0        False  https://www.wtvehiclesapi.sgambe.serv00.net/as...  air  \n",
       "1        False  https://www.wtvehiclesapi.sgambe.serv00.net/as...  air  \n",
       "2        False  https://www.wtvehiclesapi.sgambe.serv00.net/as...  air  \n",
       "3        False  https://www.wtvehiclesapi.sgambe.serv00.net/as...  air  \n",
       "4        False  https://www.wtvehiclesapi.sgambe.serv00.net/as...  air  "
      ]
     },
     "execution_count": 12,
     "metadata": {},
     "output_type": "execute_result"
    }
   ],
   "source": [
    "df.head()"
   ]
  },
  {
   "cell_type": "code",
   "execution_count": 15,
   "metadata": {},
   "outputs": [
    {
     "data": {
      "text/plain": [
       "0                 a-20g\n",
       "1                 a-26b\n",
       "2              a-26b_10\n",
       "3                 a-26c\n",
       "4           a-26c-45-dt\n",
       "5                 a-35b\n",
       "6                   a2d\n",
       "7                  a5m4\n",
       "8           a5m4_hagiri\n",
       "9            a6m2_mod11\n",
       "10          a6m2_n_zero\n",
       "11            a6m2_zero\n",
       "12      a6m2_zero_china\n",
       "13        a6m2_zero_usa\n",
       "14      a6m3_mod22_zero\n",
       "15    a6m3_mod22ko_zero\n",
       "16            a6m3_zero\n",
       "17            a6m5_zero\n",
       "18      a6m5_zero_china\n",
       "19              a6m5hei\n",
       "20               a6m5ko\n",
       "21             a6m5otsu\n",
       "22                a6m6c\n",
       "23                a7he1\n",
       "24                 a7m1\n",
       "25                 a7m2\n",
       "26           a_109_eoa2\n",
       "27          a_10a_early\n",
       "28           a_10a_late\n",
       "29                a_10c\n",
       "30              a_129_a\n",
       "31            a_129_cbt\n",
       "32              a_129_d\n",
       "33        a_20g_30_ussr\n",
       "34          a_29_hudson\n",
       "35                 a_4b\n",
       "36           a_4e_early\n",
       "37       a_4e_early_iaf\n",
       "38        a_4e_late_iaf\n",
       "39                 a_4h\n",
       "Name: name, dtype: object"
      ]
     },
     "execution_count": 15,
     "metadata": {},
     "output_type": "execute_result"
    }
   ],
   "source": [
    "df[\"name\"].head(40)"
   ]
  },
  {
   "cell_type": "code",
   "execution_count": 5,
   "metadata": {},
   "outputs": [
    {
     "data": {
      "text/plain": [
       "name                                object\n",
       "country                             object\n",
       "vehicle_type                        object\n",
       "tier                                 int64\n",
       "realistic_br                       float64\n",
       "realistic_ground_br                float64\n",
       "is_event                              bool\n",
       "release_date           datetime64[ns, UTC]\n",
       "is_premium                            bool\n",
       "is_pack                               bool\n",
       "is_marketplace                        bool\n",
       "is_squadron                           bool\n",
       "image_url                           object\n",
       "mode                                object\n",
       "dtype: object"
      ]
     },
     "execution_count": 5,
     "metadata": {},
     "output_type": "execute_result"
    }
   ],
   "source": [
    "df.dtypes"
   ]
  },
  {
   "cell_type": "code",
   "execution_count": 7,
   "metadata": {},
   "outputs": [
    {
     "data": {
      "text/plain": [
       "tier\n",
       "6    97\n",
       "1    89\n",
       "2    85\n",
       "4    76\n",
       "7    74\n",
       "5    72\n",
       "3    64\n",
       "8    43\n",
       "Name: count, dtype: int64"
      ]
     },
     "execution_count": 7,
     "metadata": {},
     "output_type": "execute_result"
    }
   ],
   "source": [
    "df[\"tier\"].value_counts()"
   ]
  },
  {
   "cell_type": "code",
   "execution_count": 8,
   "metadata": {},
   "outputs": [
    {
     "data": {
      "text/plain": [
       "vehicle_type\n",
       "fighter               228\n",
       "assault                90\n",
       "bomber                 72\n",
       "light_tank             45\n",
       "medium_tank            45\n",
       "attack_helicopter      29\n",
       "spaa                   20\n",
       "tank_destroyer         20\n",
       "destroyer              16\n",
       "heavy_tank             12\n",
       "battleship              6\n",
       "utility_helicopter      5\n",
       "light_cruiser           5\n",
       "heavy_boat              3\n",
       "heavy_cruiser           2\n",
       "frigate                 1\n",
       "boat                    1\n",
       "Name: count, dtype: int64"
      ]
     },
     "execution_count": 8,
     "metadata": {},
     "output_type": "execute_result"
    }
   ],
   "source": [
    "df[\"vehicle_type\"].value_counts()"
   ]
  },
  {
   "cell_type": "code",
   "execution_count": 10,
   "metadata": {},
   "outputs": [
    {
     "data": {
      "text/plain": [
       "is_marketplace\n",
       "False    566\n",
       "True      34\n",
       "Name: count, dtype: int64"
      ]
     },
     "execution_count": 10,
     "metadata": {},
     "output_type": "execute_result"
    }
   ],
   "source": [
    "df[\"is_marketplace\"].value_counts()"
   ]
  },
  {
   "cell_type": "code",
   "execution_count": 11,
   "metadata": {},
   "outputs": [
    {
     "data": {
      "text/plain": [
       "is_event\n",
       "False    567\n",
       "True      33\n",
       "Name: count, dtype: int64"
      ]
     },
     "execution_count": 11,
     "metadata": {},
     "output_type": "execute_result"
    }
   ],
   "source": [
    "df[\"is_event\"].value_counts()"
   ]
  },
  {
   "cell_type": "code",
   "execution_count": null,
   "metadata": {},
   "outputs": [],
   "source": []
  }
 ],
 "metadata": {
  "kernelspec": {
   "display_name": ".venv",
   "language": "python",
   "name": "python3"
  },
  "language_info": {
   "codemirror_mode": {
    "name": "ipython",
    "version": 3
   },
   "file_extension": ".py",
   "mimetype": "text/x-python",
   "name": "python",
   "nbconvert_exporter": "python",
   "pygments_lexer": "ipython3",
   "version": "3.12.7"
  }
 },
 "nbformat": 4,
 "nbformat_minor": 2
}
