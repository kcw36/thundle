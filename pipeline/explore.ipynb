{
 "cells": [
  {
   "cell_type": "markdown",
   "metadata": {},
   "source": [
    "# Setup"
   ]
  },
  {
   "cell_type": "code",
   "execution_count": 2,
   "metadata": {},
   "outputs": [],
   "source": [
    "from transform import transform\n",
    "from json import loads"
   ]
  },
  {
   "cell_type": "code",
   "execution_count": 5,
   "metadata": {},
   "outputs": [],
   "source": [
    "with open(\"example_response.json\", \"r\", encoding=\"utf-8\") as f:\n",
    "        data = loads(f.read())"
   ]
  },
  {
   "cell_type": "code",
   "execution_count": 6,
   "metadata": {},
   "outputs": [],
   "source": [
    "df = transform(data)"
   ]
  },
  {
   "cell_type": "markdown",
   "metadata": {},
   "source": [
    "# Exploration"
   ]
  },
  {
   "cell_type": "code",
   "execution_count": 7,
   "metadata": {},
   "outputs": [
    {
     "data": {
      "text/html": [
       "<div>\n",
       "<style scoped>\n",
       "    .dataframe tbody tr th:only-of-type {\n",
       "        vertical-align: middle;\n",
       "    }\n",
       "\n",
       "    .dataframe tbody tr th {\n",
       "        vertical-align: top;\n",
       "    }\n",
       "\n",
       "    .dataframe thead th {\n",
       "        text-align: right;\n",
       "    }\n",
       "</style>\n",
       "<table border=\"1\" class=\"dataframe\">\n",
       "  <thead>\n",
       "    <tr style=\"text-align: right;\">\n",
       "      <th></th>\n",
       "      <th>name</th>\n",
       "      <th>country</th>\n",
       "      <th>vehicle_type</th>\n",
       "      <th>vehicle_sub_types</th>\n",
       "      <th>era</th>\n",
       "      <th>realistic_br</th>\n",
       "      <th>realistic_ground_br</th>\n",
       "      <th>is_event</th>\n",
       "      <th>release_date</th>\n",
       "      <th>is_premium</th>\n",
       "      <th>is_pack</th>\n",
       "      <th>is_marketplace</th>\n",
       "      <th>is_squadron</th>\n",
       "      <th>image_url</th>\n",
       "    </tr>\n",
       "  </thead>\n",
       "  <tbody>\n",
       "    <tr>\n",
       "      <th>0</th>\n",
       "      <td>a-20g</td>\n",
       "      <td>usa</td>\n",
       "      <td>assault</td>\n",
       "      <td>[strike_aircraft]</td>\n",
       "      <td>2</td>\n",
       "      <td>2.7</td>\n",
       "      <td>2.7</td>\n",
       "      <td>None</td>\n",
       "      <td>None</td>\n",
       "      <td>False</td>\n",
       "      <td>False</td>\n",
       "      <td>False</td>\n",
       "      <td>False</td>\n",
       "      <td>{'image': 'https://www.wtvehiclesapi.sgambe.se...</td>\n",
       "    </tr>\n",
       "    <tr>\n",
       "      <th>1</th>\n",
       "      <td>a-26b</td>\n",
       "      <td>usa</td>\n",
       "      <td>assault</td>\n",
       "      <td>[strike_aircraft]</td>\n",
       "      <td>4</td>\n",
       "      <td>5.3</td>\n",
       "      <td>5.3</td>\n",
       "      <td>None</td>\n",
       "      <td>None</td>\n",
       "      <td>False</td>\n",
       "      <td>False</td>\n",
       "      <td>False</td>\n",
       "      <td>False</td>\n",
       "      <td>{'image': 'https://www.wtvehiclesapi.sgambe.se...</td>\n",
       "    </tr>\n",
       "    <tr>\n",
       "      <th>2</th>\n",
       "      <td>a-26b_10</td>\n",
       "      <td>usa</td>\n",
       "      <td>assault</td>\n",
       "      <td>[strike_aircraft]</td>\n",
       "      <td>4</td>\n",
       "      <td>5.0</td>\n",
       "      <td>5.0</td>\n",
       "      <td>None</td>\n",
       "      <td>2017-09-14</td>\n",
       "      <td>False</td>\n",
       "      <td>False</td>\n",
       "      <td>False</td>\n",
       "      <td>False</td>\n",
       "      <td>{'image': 'https://www.wtvehiclesapi.sgambe.se...</td>\n",
       "    </tr>\n",
       "    <tr>\n",
       "      <th>3</th>\n",
       "      <td>a-26c</td>\n",
       "      <td>usa</td>\n",
       "      <td>bomber</td>\n",
       "      <td>[]</td>\n",
       "      <td>4</td>\n",
       "      <td>5.3</td>\n",
       "      <td>5.3</td>\n",
       "      <td>None</td>\n",
       "      <td>None</td>\n",
       "      <td>False</td>\n",
       "      <td>False</td>\n",
       "      <td>False</td>\n",
       "      <td>False</td>\n",
       "      <td>{'image': 'https://www.wtvehiclesapi.sgambe.se...</td>\n",
       "    </tr>\n",
       "    <tr>\n",
       "      <th>4</th>\n",
       "      <td>a-26c-45-dt</td>\n",
       "      <td>usa</td>\n",
       "      <td>bomber</td>\n",
       "      <td>[]</td>\n",
       "      <td>4</td>\n",
       "      <td>5.3</td>\n",
       "      <td>5.3</td>\n",
       "      <td>None</td>\n",
       "      <td>None</td>\n",
       "      <td>True</td>\n",
       "      <td>True</td>\n",
       "      <td>False</td>\n",
       "      <td>False</td>\n",
       "      <td>{'image': 'https://www.wtvehiclesapi.sgambe.se...</td>\n",
       "    </tr>\n",
       "  </tbody>\n",
       "</table>\n",
       "</div>"
      ],
      "text/plain": [
       "          name country vehicle_type  vehicle_sub_types  era  realistic_br  \\\n",
       "0        a-20g     usa      assault  [strike_aircraft]    2           2.7   \n",
       "1        a-26b     usa      assault  [strike_aircraft]    4           5.3   \n",
       "2     a-26b_10     usa      assault  [strike_aircraft]    4           5.0   \n",
       "3        a-26c     usa       bomber                 []    4           5.3   \n",
       "4  a-26c-45-dt     usa       bomber                 []    4           5.3   \n",
       "\n",
       "   realistic_ground_br is_event release_date  is_premium  is_pack  \\\n",
       "0                  2.7     None         None       False    False   \n",
       "1                  5.3     None         None       False    False   \n",
       "2                  5.0     None   2017-09-14       False    False   \n",
       "3                  5.3     None         None       False    False   \n",
       "4                  5.3     None         None        True     True   \n",
       "\n",
       "   is_marketplace  is_squadron  \\\n",
       "0           False        False   \n",
       "1           False        False   \n",
       "2           False        False   \n",
       "3           False        False   \n",
       "4           False        False   \n",
       "\n",
       "                                           image_url  \n",
       "0  {'image': 'https://www.wtvehiclesapi.sgambe.se...  \n",
       "1  {'image': 'https://www.wtvehiclesapi.sgambe.se...  \n",
       "2  {'image': 'https://www.wtvehiclesapi.sgambe.se...  \n",
       "3  {'image': 'https://www.wtvehiclesapi.sgambe.se...  \n",
       "4  {'image': 'https://www.wtvehiclesapi.sgambe.se...  "
      ]
     },
     "execution_count": 7,
     "metadata": {},
     "output_type": "execute_result"
    }
   ],
   "source": [
    "df.head()"
   ]
  },
  {
   "cell_type": "code",
   "execution_count": 8,
   "metadata": {},
   "outputs": [
    {
     "data": {
      "text/plain": [
       "name                    object\n",
       "country                 object\n",
       "vehicle_type            object\n",
       "vehicle_sub_types       object\n",
       "era                      int64\n",
       "realistic_br           float64\n",
       "realistic_ground_br    float64\n",
       "is_event                object\n",
       "release_date            object\n",
       "is_premium                bool\n",
       "is_pack                   bool\n",
       "is_marketplace            bool\n",
       "is_squadron               bool\n",
       "image_url               object\n",
       "dtype: object"
      ]
     },
     "execution_count": 8,
     "metadata": {},
     "output_type": "execute_result"
    }
   ],
   "source": [
    "df.dtypes"
   ]
  },
  {
   "cell_type": "code",
   "execution_count": 10,
   "metadata": {},
   "outputs": [
    {
     "data": {
      "text/plain": [
       "era\n",
       "6    97\n",
       "1    89\n",
       "2    85\n",
       "4    76\n",
       "7    74\n",
       "5    72\n",
       "3    64\n",
       "8    43\n",
       "Name: count, dtype: int64"
      ]
     },
     "execution_count": 10,
     "metadata": {},
     "output_type": "execute_result"
    }
   ],
   "source": [
    "df[\"era\"].value_counts()"
   ]
  },
  {
   "cell_type": "code",
   "execution_count": 13,
   "metadata": {},
   "outputs": [
    {
     "data": {
      "text/plain": [
       "vehicle_type\n",
       "fighter               228\n",
       "assault                90\n",
       "bomber                 72\n",
       "light_tank             45\n",
       "medium_tank            45\n",
       "attack_helicopter      29\n",
       "spaa                   20\n",
       "tank_destroyer         20\n",
       "destroyer              16\n",
       "heavy_tank             12\n",
       "battleship              6\n",
       "utility_helicopter      5\n",
       "light_cruiser           5\n",
       "heavy_boat              3\n",
       "heavy_cruiser           2\n",
       "frigate                 1\n",
       "boat                    1\n",
       "Name: count, dtype: int64"
      ]
     },
     "execution_count": 13,
     "metadata": {},
     "output_type": "execute_result"
    }
   ],
   "source": [
    "df[\"vehicle_type\"].value_counts()"
   ]
  },
  {
   "cell_type": "code",
   "execution_count": 16,
   "metadata": {},
   "outputs": [
    {
     "data": {
      "text/plain": [
       "vehicle_sub_types\n",
       "[]                                            266\n",
       "[jet_fighter]                                  90\n",
       "[strike_aircraft]                              52\n",
       "[naval_aircraft]                               39\n",
       "[strike_aircraft, naval_aircraft]              27\n",
       "[jet_fighter, naval_aircraft]                  23\n",
       "[frontline_bomber]                             17\n",
       "[longrange_bomber]                             14\n",
       "[naval_aircraft, torpedo]                      12\n",
       "[strike_aircraft, torpedo]                      8\n",
       "[light_bomber, hydroplane]                      8\n",
       "[jet_bomber]                                    6\n",
       "[aa_fighter]                                    5\n",
       "[frontline_bomber, torpedo]                     4\n",
       "[utility_helicopter]                            3\n",
       "[submarine_chaser, boat]                        3\n",
       "[dive_bomber, naval_aircraft]                   3\n",
       "[missile_tank]                                  3\n",
       "[strike_aircraft, naval_aircraft, torpedo]      3\n",
       "[naval_aircraft, interceptor]                   2\n",
       "[interceptor]                                   2\n",
       "[dive_bomber]                                   1\n",
       "[hydroplane]                                    1\n",
       "[light_bomber, dive_bomber]                     1\n",
       "[light_bomber]                                  1\n",
       "[hydroplane, torpedo]                           1\n",
       "[torpedo]                                       1\n",
       "[longrange_bomber, hydroplane]                  1\n",
       "[naval_aircraft, dive_bomber]                   1\n",
       "[heavy_gun_boat]                                1\n",
       "[gun_boat]                                      1\n",
       "Name: count, dtype: int64"
      ]
     },
     "execution_count": 16,
     "metadata": {},
     "output_type": "execute_result"
    }
   ],
   "source": [
    "df[\"vehicle_sub_types\"].value_counts()"
   ]
  },
  {
   "cell_type": "code",
   "execution_count": 18,
   "metadata": {},
   "outputs": [
    {
     "data": {
      "text/plain": [
       "is_marketplace\n",
       "False    566\n",
       "True      34\n",
       "Name: count, dtype: int64"
      ]
     },
     "execution_count": 18,
     "metadata": {},
     "output_type": "execute_result"
    }
   ],
   "source": [
    "df[\"is_marketplace\"].value_counts()"
   ]
  },
  {
   "cell_type": "code",
   "execution_count": 21,
   "metadata": {},
   "outputs": [
    {
     "data": {
      "text/plain": [
       "is_event\n",
       "craft_2023_spring       3\n",
       "summer_2020             2\n",
       "battlepass_season10     2\n",
       "summer_2018_good_old    2\n",
       "battlepass_season12     1\n",
       "battlepass_season5      1\n",
       "summer_2019             1\n",
       "craft_2020_autumn       1\n",
       "summer_2021             1\n",
       "battlepass_season8      1\n",
       "2024_04_tank            1\n",
       "battlepass_season4      1\n",
       "winter_2025             1\n",
       "battlepass_season6      1\n",
       "craft_2021_spring       1\n",
       "battlepass_season9      1\n",
       "craft_2021_autumn       1\n",
       "2025_02_air             1\n",
       "battlepass_season1      1\n",
       "summer_2022             1\n",
       "craft_2020_spring       1\n",
       "summer_2016             1\n",
       "craft_2023_autumn       1\n",
       "2024_08_air             1\n",
       "worldwar_recon_fire     1\n",
       "battlepass_season19     1\n",
       "2025_02_ship            1\n",
       "battlepass_season14     1\n",
       "Name: count, dtype: int64"
      ]
     },
     "execution_count": 21,
     "metadata": {},
     "output_type": "execute_result"
    }
   ],
   "source": [
    "df[\"is_event\"].value_counts()"
   ]
  }
 ],
 "metadata": {
  "kernelspec": {
   "display_name": ".venv",
   "language": "python",
   "name": "python3"
  },
  "language_info": {
   "codemirror_mode": {
    "name": "ipython",
    "version": 3
   },
   "file_extension": ".py",
   "mimetype": "text/x-python",
   "name": "python",
   "nbconvert_exporter": "python",
   "pygments_lexer": "ipython3",
   "version": "3.12.7"
  }
 },
 "nbformat": 4,
 "nbformat_minor": 2
}
